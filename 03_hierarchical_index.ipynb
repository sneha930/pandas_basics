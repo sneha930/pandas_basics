{
 "cells": [
  {
   "cell_type": "code",
   "execution_count": null,
   "id": "88cfb110",
   "metadata": {},
   "outputs": [
    {
     "name": "stdout",
     "output_type": "stream",
     "text": [
      "                Population\n",
      "Country City              \n",
      "India   Delhi           30\n",
      "        Mumbai          20\n",
      "USA     NYC              8\n",
      "        LA               4\n"
     ]
    }
   ],
   "source": [
    "\"\"\" \n",
    "3️⃣ Hierarchical Index (MultiIndex)\n",
    "An advanced index with multiple levels — like row groups inside row groups.\n",
    "Useful for complex data → like sales by country, city, year.\n",
    "\n",
    "📌 ✅ What is a MultiIndex (Hierarchical Index)?\n",
    "In a normal DataFrame, you have a single index → like row numbers 0, 1, 2, 3.\n",
    "\n",
    "In a MultiIndex, each row is identified by more than one label → a tuple of multiple index levels.\n",
    "\n",
    "This lets you represent hierarchies — for example:\n",
    "Country → City → Data.\n",
    "Year → Month → Sales.\n",
    "Category → Subcategory → Value.\n",
    "\"\"\"\n",
    "\n",
    "import pandas as pd\n",
    "\n",
    "# You’re creating a list of two lists.\n",
    "# First list: ['India', 'India', 'USA', 'USA']\n",
    "# This will be the 1st index level → Country.\n",
    "# Second list: ['Delhi', 'Mumbai', 'NYC', 'LA']\n",
    "# This will be the 2nd index level → City.\n",
    "arrays = [\n",
    "   ['India', 'India', 'USA', 'USA'],\n",
    "   ['Delhi', 'Mumbai', 'NYC', 'LA']\n",
    "]\n",
    "\n",
    "# pd.MultiIndex.from_arrays creates a MultiIndex from your two lists.\n",
    "# names=('Country', 'City') → names the index levels → this appears as labels in your DataFrame output.\n",
    "index = pd.MultiIndex.from_arrays(arrays, names=('Country', 'City'))\n",
    "\n",
    "df = pd.DataFrame({\n",
    "   'Population': [30, 20, 8, 4]\n",
    "}, index=index)\n",
    "\n",
    "print(df)"
   ]
  }
 ],
 "metadata": {
  "kernelspec": {
   "display_name": "Python 3",
   "language": "python",
   "name": "python3"
  },
  "language_info": {
   "codemirror_mode": {
    "name": "ipython",
    "version": 3
   },
   "file_extension": ".py",
   "mimetype": "text/x-python",
   "name": "python",
   "nbconvert_exporter": "python",
   "pygments_lexer": "ipython3",
   "version": "3.13.5"
  }
 },
 "nbformat": 4,
 "nbformat_minor": 5
}
