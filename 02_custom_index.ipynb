{
 "cells": [
  {
   "cell_type": "code",
   "execution_count": 1,
   "id": "88cfb110",
   "metadata": {},
   "outputs": [
    {
     "name": "stdout",
     "output_type": "stream",
     "text": [
      "    Name  age\n",
      "a  sneha   24\n",
      "b   kiki   34\n",
      "c    sky   21\n"
     ]
    }
   ],
   "source": [
    "\"\"\" \n",
    "2️⃣ Custom Index\n",
    "You can set your own index — like names, IDs, dates.\n",
    "\"\"\"\n",
    "\n",
    "import pandas as pd\n",
    "\n",
    "df = pd.DataFrame({\n",
    "   'Name': ['sneha', 'kiki', 'sky'],\n",
    "   'age': [24, 34, 21]\n",
    "}, index=['a', 'b', 'c'])\n",
    "\n",
    "print(df)"
   ]
  }
 ],
 "metadata": {
  "kernelspec": {
   "display_name": "Python 3",
   "language": "python",
   "name": "python3"
  },
  "language_info": {
   "codemirror_mode": {
    "name": "ipython",
    "version": 3
   },
   "file_extension": ".py",
   "mimetype": "text/x-python",
   "name": "python",
   "nbconvert_exporter": "python",
   "pygments_lexer": "ipython3",
   "version": "3.13.5"
  }
 },
 "nbformat": 4,
 "nbformat_minor": 5
}
