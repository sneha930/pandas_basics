{
 "cells": [
  {
   "cell_type": "code",
   "execution_count": null,
   "id": "88cfb110",
   "metadata": {},
   "outputs": [
    {
     "name": "stdout",
     "output_type": "stream",
     "text": [
      "            Sales\n",
      "2025-01-01    100\n",
      "2025-01-02    200\n",
      "2025-01-03    150\n",
      "            Sales\n",
      "2025-01-01    100\n",
      "2025-01-02    200\n",
      "2025-01-03    150\n"
     ]
    }
   ],
   "source": [
    "\"\"\" \n",
    "4️⃣ DatetimeIndex\n",
    "When working with time series data, you often use dates as the index.\n",
    "\n",
    "You’re using Pandas’ DatetimeIndex — which means your rows are labeled with dates instead of numbers or strings.\n",
    "This is essential for time series data, like daily sales, stock prices, temperature, etc.\n",
    "\"\"\"\n",
    "\n",
    "import pandas as pd\n",
    "\n",
    "\"\"\" pd.date_range()\n",
    "dates = pd.date_range('2025-01-01', periods=3)\n",
    "What does this do?\n",
    "\n",
    "pd.date_range() generates a sequence of dates.\n",
    "\n",
    "'2025-01-01' → this is the start date.\n",
    "\n",
    "periods=3 → this tells Pandas how many dates to create.\n",
    "\n",
    "✅ So dates will be:\n",
    "DatetimeIndex(['2025-01-01', '2025-01-02', '2025-01-03'], dtype='datetime64[ns]', freq='D')\n",
    "👉 It auto-generates 3 daily dates, starting at January 1, 2025. \"\"\"\n",
    "dates = pd.date_range('2025-01-01', periods=3)\n",
    "df = pd.DataFrame({\n",
    "    'Sales': [100, 200, 150]\n",
    "}, index=dates)\n",
    "\n",
    "print(df)\n",
    "\n",
    "\n",
    "print(df)"
   ]
  }
 ],
 "metadata": {
  "kernelspec": {
   "display_name": "Python 3",
   "language": "python",
   "name": "python3"
  },
  "language_info": {
   "codemirror_mode": {
    "name": "ipython",
    "version": 3
   },
   "file_extension": ".py",
   "mimetype": "text/x-python",
   "name": "python",
   "nbconvert_exporter": "python",
   "pygments_lexer": "ipython3",
   "version": "3.13.5"
  }
 },
 "nbformat": 4,
 "nbformat_minor": 5
}
