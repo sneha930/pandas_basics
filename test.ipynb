{
 "cells": [
  {
   "cell_type": "code",
   "execution_count": null,
   "id": "88cfb110",
   "metadata": {},
   "outputs": [
    {
     "name": "stdout",
     "output_type": "stream",
     "text": [
      "     Name  Age  Gender  Rating\n",
      "0   sneha   23  female     4.7\n",
      "1   onkar   45    male     5.0\n",
      "2    kiki   21  female     4.0\n",
      "3  dipika   65  female     4.2\n"
     ]
    }
   ],
   "source": [
    "import pandas as pd\n",
    "# This line imports the Pandas library and gives it a nickname pd.\n",
    "# You’ll use pd to access all Pandas functions.\n",
    "# This is standard convention — everyone writes it this way.import pandas as pd\n",
    "\n",
    "# create a Python dictionary named data. key and value\n",
    "data = {\n",
    "   'Name': ['sneha', 'Sky', 'kiki', 'dipika'],\n",
    "   'Age' : [23, 45, 21, 65],\n",
    "   'Gender' : ['female', 'male', 'female', 'female'],\n",
    "   'Rating' : [4.7, 5, 4, 4.2]\n",
    "}\n",
    "\n",
    "# You call pd.DataFrame() → this converts the dictionary into a DataFrame.\n",
    "# A DataFrame is like a table with rows and columns.\n",
    "# Pandas matches the keys to column names, and the lists to rows.\n",
    "df = pd.DataFrame(data)\n",
    "\n",
    "# display dataframe\n",
    "print(df)\n",
    "\n",
    "\"\"\" 📌 So why do this?\n",
    "With this DataFrame, you can now:\n",
    "Filter rows → e.g., only females.\n",
    "Calculate averages → e.g., average age.\n",
    "Add new columns → e.g., Status = 'VIP'.\n",
    "Save it to CSV → share or use for training an ML model. \"\"\""
   ]
  }
 ],
 "metadata": {
  "kernelspec": {
   "display_name": "Python 3",
   "language": "python",
   "name": "python3"
  },
  "language_info": {
   "codemirror_mode": {
    "name": "ipython",
    "version": 3
   },
   "file_extension": ".py",
   "mimetype": "text/x-python",
   "name": "python",
   "nbconvert_exporter": "python",
   "pygments_lexer": "ipython3",
   "version": "3.13.5"
  }
 },
 "nbformat": 4,
 "nbformat_minor": 5
}
