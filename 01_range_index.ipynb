{
 "cells": [
  {
   "cell_type": "code",
   "execution_count": 3,
   "id": "88cfb110",
   "metadata": {},
   "outputs": [
    {
     "name": "stdout",
     "output_type": "stream",
     "text": [
      "    Name  age\n",
      "0  sneha   24\n",
      "1   kiki   34\n",
      "2    sky   21\n"
     ]
    }
   ],
   "source": [
    "\"\"\" ✅ 📌 What is an Index in Pandas?\n",
    "👉 In Pandas, an Index is like a label for the rows (and sometimes for columns).\n",
    "It tells Pandas how to identify each row in your DataFrame or Series.\n",
    "Think of it like the left-most column you see when you print(df) — 0, 1, 2, 3 by default.\n",
    "\n",
    "✨ Why is Index important?\n",
    "Helps Pandas locate, filter, slice, or align data.\n",
    "You can set your own index to make lookups faster and clearer.\n",
    "Good indexing makes your data analysis easier and your code more readable.\n",
    "\n",
    "✅ 📌 Types of Indexes in Pandas\n",
    "1️⃣ Default Index\n",
    "When you create a DataFrame without setting any index, Pandas gives you a RangeIndex.\n",
    "This is just numbers starting from 0.\n",
    "\"\"\"\n",
    "\n",
    "import pandas as pd\n",
    "\n",
    "df = pd.DataFrame({\n",
    "   'Name': ['sneha', 'kiki', 'sky'],\n",
    "   'age': [24, 34, 21]\n",
    "})\n",
    "\n",
    "print(df)"
   ]
  }
 ],
 "metadata": {
  "kernelspec": {
   "display_name": "Python 3",
   "language": "python",
   "name": "python3"
  },
  "language_info": {
   "codemirror_mode": {
    "name": "ipython",
    "version": 3
   },
   "file_extension": ".py",
   "mimetype": "text/x-python",
   "name": "python",
   "nbconvert_exporter": "python",
   "pygments_lexer": "ipython3",
   "version": "3.13.5"
  }
 },
 "nbformat": 4,
 "nbformat_minor": 5
}
